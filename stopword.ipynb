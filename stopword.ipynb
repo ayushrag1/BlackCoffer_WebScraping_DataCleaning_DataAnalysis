{
 "cells": [
  {
   "cell_type": "code",
   "execution_count": 1,
   "metadata": {},
   "outputs": [],
   "source": [
    "import os"
   ]
  },
  {
   "cell_type": "code",
   "execution_count": 59,
   "metadata": {},
   "outputs": [],
   "source": [
    "def stopword():\n",
    "    path=r'D:\\20211030 Test Assignment\\StopWords'\n",
    "    stop_word=set()\n",
    "    for i in os.listdir(path):\n",
    "        file_path=\"{}\\{}\".format(path,i)\n",
    "        with open(file_path,'r') as f:\n",
    "            for i in f:\n",
    "                i=i.strip('\\n')\n",
    "                a=i.split()\n",
    "                for j in a:\n",
    "                    if j.isalnum():\n",
    "                        stop_word.add(j.lower())\n",
    "    return stop_word"
   ]
  },
  {
   "cell_type": "code",
   "execution_count": 60,
   "metadata": {},
   "outputs": [],
   "source": [
    "stop_word=stopword()"
   ]
  },
  {
   "cell_type": "code",
   "execution_count": 62,
   "metadata": {},
   "outputs": [],
   "source": [
    "\n",
    "def stop_word_removing(data):\n",
    "    content=\"\"\n",
    "    for word in data:\n",
    "        word=word.lower()\n",
    "        if word not in stop_word:\n",
    "            content+=word\n",
    "    return content\n",
    "\n"
   ]
  },
  {
   "cell_type": "code",
   "execution_count": null,
   "metadata": {},
   "outputs": [],
   "source": [
    "url"
   ]
  }
 ],
 "metadata": {
  "kernelspec": {
   "display_name": "Python 3.8.10 64-bit",
   "language": "python",
   "name": "python3"
  },
  "language_info": {
   "codemirror_mode": {
    "name": "ipython",
    "version": 3
   },
   "file_extension": ".py",
   "mimetype": "text/x-python",
   "name": "python",
   "nbconvert_exporter": "python",
   "pygments_lexer": "ipython3",
   "version": "3.8.10"
  },
  "orig_nbformat": 4,
  "vscode": {
   "interpreter": {
    "hash": "318f11b5d5929c1bb3530f7b0ec005ea5dc0b98ca838da92bfdb3650e5bc63c6"
   }
  }
 },
 "nbformat": 4,
 "nbformat_minor": 2
}
